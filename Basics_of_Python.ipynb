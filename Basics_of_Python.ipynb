{
  "nbformat": 4,
  "nbformat_minor": 0,
  "metadata": {
    "colab": {
      "name": "Basics of Python.ipynb",
      "provenance": [],
      "collapsed_sections": [],
      "toc_visible": true,
      "authorship_tag": "ABX9TyPXq/enB6YD+SZvFzrEidvY",
      "include_colab_link": true
    },
    "kernelspec": {
      "name": "python3",
      "display_name": "Python 3"
    },
    "language_info": {
      "name": "python"
    }
  },
  "cells": [
    {
      "cell_type": "markdown",
      "metadata": {
        "id": "view-in-github",
        "colab_type": "text"
      },
      "source": [
        "<a href=\"https://colab.research.google.com/github/NaveenVuppula/Applied_Machine_Learning/blob/main/Basics_of_Python.ipynb\" target=\"_parent\"><img src=\"https://colab.research.google.com/assets/colab-badge.svg\" alt=\"Open In Colab\"/></a>"
      ]
    },
    {
      "cell_type": "markdown",
      "source": [
        "#<h1> Introduction"
      ],
      "metadata": {
        "id": "MgADOejw52Tq"
      }
    },
    {
      "cell_type": "markdown",
      "source": [
        "This Notebook covers all the basics needed to start working with Python."
      ],
      "metadata": {
        "id": "xgDmWB5V5qFG"
      }
    },
    {
      "cell_type": "code",
      "execution_count": null,
      "metadata": {
        "colab": {
          "base_uri": "https://localhost:8080/",
          "height": 35
        },
        "id": "604msFMDhh5Q",
        "outputId": "ef2a6559-17cd-4a18-9466-256aa8c18e97"
      },
      "outputs": [
        {
          "output_type": "execute_result",
          "data": {
            "text/plain": [
              "'Hello World'"
            ],
            "application/vnd.google.colaboratory.intrinsic+json": {
              "type": "string"
            }
          },
          "metadata": {},
          "execution_count": 1
        }
      ],
      "source": [
        "'Hello World'"
      ]
    },
    {
      "cell_type": "markdown",
      "source": [
        "#<h1> 1. Keywords"
      ],
      "metadata": {
        "id": "BfzOpM2n5_Sz"
      }
    },
    {
      "cell_type": "code",
      "source": [
        "import keyword\n",
        "print(keyword.kwlist)\n",
        "print(len(keyword.kwlist))"
      ],
      "metadata": {
        "colab": {
          "base_uri": "https://localhost:8080/"
        },
        "id": "uC4RQcrc6CWB",
        "outputId": "04a59726-f831-4de9-c335-31e0ebc20497"
      },
      "execution_count": null,
      "outputs": [
        {
          "output_type": "stream",
          "name": "stdout",
          "text": [
            "['False', 'None', 'True', 'and', 'as', 'assert', 'async', 'await', 'break', 'class', 'continue', 'def', 'del', 'elif', 'else', 'except', 'finally', 'for', 'from', 'global', 'if', 'import', 'in', 'is', 'lambda', 'nonlocal', 'not', 'or', 'pass', 'raise', 'return', 'try', 'while', 'with', 'yield']\n",
            "35\n"
          ]
        }
      ]
    },
    {
      "cell_type": "markdown",
      "source": [
        "#<h1> 2. Identifiers"
      ],
      "metadata": {
        "id": "rNmfGQEp6S-W"
      }
    },
    {
      "cell_type": "code",
      "source": [
        "a = 1\n",
        "b3 = 2.5\n",
        "c_ = 'py'\n",
        "_d = True\n",
        "print(a, b3, c_, _d)"
      ],
      "metadata": {
        "colab": {
          "base_uri": "https://localhost:8080/"
        },
        "id": "BXFhwkQL6Wlr",
        "outputId": "8d72b411-bf86-4562-c874-8ef4c2c55ef3"
      },
      "execution_count": null,
      "outputs": [
        {
          "output_type": "stream",
          "name": "stdout",
          "text": [
            "1 2.5 py True\n"
          ]
        }
      ]
    },
    {
      "cell_type": "code",
      "source": [
        "5a=10\n",
        "print(5a)"
      ],
      "metadata": {
        "colab": {
          "base_uri": "https://localhost:8080/",
          "height": 131
        },
        "id": "XgK0nAXa6wtj",
        "outputId": "fac93789-c8ad-43b2-d5ff-dc05b2bd2497"
      },
      "execution_count": null,
      "outputs": [
        {
          "output_type": "error",
          "ename": "SyntaxError",
          "evalue": "ignored",
          "traceback": [
            "\u001b[0;36m  File \u001b[0;32m\"<ipython-input-4-a8800ae170be>\"\u001b[0;36m, line \u001b[0;32m1\u001b[0m\n\u001b[0;31m    5a=10\u001b[0m\n\u001b[0m     ^\u001b[0m\n\u001b[0;31mSyntaxError\u001b[0m\u001b[0;31m:\u001b[0m invalid syntax\n"
          ]
        }
      ]
    },
    {
      "cell_type": "code",
      "source": [
        "a$ = 10\n",
        "print(a$)"
      ],
      "metadata": {
        "colab": {
          "base_uri": "https://localhost:8080/",
          "height": 131
        },
        "id": "hVh_4Gz265ht",
        "outputId": "5fa89122-f12b-4be9-c5d7-5d43d3bba52d"
      },
      "execution_count": null,
      "outputs": [
        {
          "output_type": "error",
          "ename": "SyntaxError",
          "evalue": "ignored",
          "traceback": [
            "\u001b[0;36m  File \u001b[0;32m\"<ipython-input-5-7c116d3d7b4d>\"\u001b[0;36m, line \u001b[0;32m1\u001b[0m\n\u001b[0;31m    a$ = 10\u001b[0m\n\u001b[0m     ^\u001b[0m\n\u001b[0;31mSyntaxError\u001b[0m\u001b[0;31m:\u001b[0m invalid syntax\n"
          ]
        }
      ]
    },
    {
      "cell_type": "code",
      "source": [
        "if = 50\n",
        "print(if)"
      ],
      "metadata": {
        "colab": {
          "base_uri": "https://localhost:8080/",
          "height": 131
        },
        "id": "aoj8w55A7IM4",
        "outputId": "3e953626-b223-4d3d-b6d9-24a807c7c2cd"
      },
      "execution_count": null,
      "outputs": [
        {
          "output_type": "error",
          "ename": "SyntaxError",
          "evalue": "ignored",
          "traceback": [
            "\u001b[0;36m  File \u001b[0;32m\"<ipython-input-6-40bc7a0e512d>\"\u001b[0;36m, line \u001b[0;32m1\u001b[0m\n\u001b[0;31m    if = 50\u001b[0m\n\u001b[0m       ^\u001b[0m\n\u001b[0;31mSyntaxError\u001b[0m\u001b[0;31m:\u001b[0m invalid syntax\n"
          ]
        }
      ]
    },
    {
      "cell_type": "code",
      "source": [
        "def True(a):\n",
        "  return a*a"
      ],
      "metadata": {
        "colab": {
          "base_uri": "https://localhost:8080/",
          "height": 131
        },
        "id": "U8hZ118_7QWE",
        "outputId": "8e875464-5d82-441d-af7a-b62a08742efa"
      },
      "execution_count": null,
      "outputs": [
        {
          "output_type": "error",
          "ename": "SyntaxError",
          "evalue": "ignored",
          "traceback": [
            "\u001b[0;36m  File \u001b[0;32m\"<ipython-input-7-cf20a49e1ebf>\"\u001b[0;36m, line \u001b[0;32m1\u001b[0m\n\u001b[0;31m    def True(a):\u001b[0m\n\u001b[0m           ^\u001b[0m\n\u001b[0;31mSyntaxError\u001b[0m\u001b[0;31m:\u001b[0m invalid syntax\n"
          ]
        }
      ]
    },
    {
      "cell_type": "markdown",
      "source": [
        "#<h1> 3. Comments"
      ],
      "metadata": {
        "id": "E4PK20Y7MCuq"
      }
    },
    {
      "cell_type": "code",
      "source": [
        "#Sample comment\n",
        "a=10"
      ],
      "metadata": {
        "id": "iwx-IuemMGI5"
      },
      "execution_count": null,
      "outputs": []
    },
    {
      "cell_type": "code",
      "source": [
        "#Multiline comment\n",
        "a=10\n",
        "b=20\n",
        "'''c=a+b\n",
        "d=a*b'''"
      ],
      "metadata": {
        "colab": {
          "base_uri": "https://localhost:8080/",
          "height": 35
        },
        "id": "QI3ybkzIMI8q",
        "outputId": "0e3cbd56-4497-433b-a874-b2a646c750b6"
      },
      "execution_count": null,
      "outputs": [
        {
          "output_type": "execute_result",
          "data": {
            "text/plain": [
              "'c=a+b\\nd=a*b'"
            ],
            "application/vnd.google.colaboratory.intrinsic+json": {
              "type": "string"
            }
          },
          "metadata": {},
          "execution_count": 9
        }
      ]
    },
    {
      "cell_type": "markdown",
      "source": [
        "#<h1> 4. Indentation"
      ],
      "metadata": {
        "id": "15MAUz4EMYiM"
      }
    },
    {
      "cell_type": "code",
      "source": [
        "if True:\n",
        "  print(\"This is fine to\")\n",
        "  print(\"This is fine too\")"
      ],
      "metadata": {
        "colab": {
          "base_uri": "https://localhost:8080/"
        },
        "id": "igubX3d-MiMf",
        "outputId": "b878ba7a-b521-46c5-f3ea-87dc840b8a65"
      },
      "execution_count": null,
      "outputs": [
        {
          "output_type": "stream",
          "name": "stdout",
          "text": [
            "This is fine to\n",
            "This is fine too\n"
          ]
        }
      ]
    },
    {
      "cell_type": "code",
      "source": [
        "if True:\n",
        "        print(\"This is fine\")\n",
        "        print(\"This is fine too\")"
      ],
      "metadata": {
        "colab": {
          "base_uri": "https://localhost:8080/"
        },
        "id": "tplUXZGVMXkx",
        "outputId": "c90d84f8-9aad-4315-fcfb-d7785caaf7ed"
      },
      "execution_count": null,
      "outputs": [
        {
          "output_type": "stream",
          "name": "stdout",
          "text": [
            "This is fine\n",
            "This is fine too\n"
          ]
        }
      ]
    },
    {
      "cell_type": "code",
      "source": [
        "if True:\n",
        "  print(\"This is fine\")\n",
        "   print(\"This is not\")"
      ],
      "metadata": {
        "colab": {
          "base_uri": "https://localhost:8080/",
          "height": 131
        },
        "id": "61kyGmlVMygs",
        "outputId": "9e71568d-49e0-4960-c266-dfa154cead41"
      },
      "execution_count": null,
      "outputs": [
        {
          "output_type": "error",
          "ename": "IndentationError",
          "evalue": "ignored",
          "traceback": [
            "\u001b[0;36m  File \u001b[0;32m\"<ipython-input-12-af97ae2757b3>\"\u001b[0;36m, line \u001b[0;32m3\u001b[0m\n\u001b[0;31m    print(\"This is not\")\u001b[0m\n\u001b[0m    ^\u001b[0m\n\u001b[0;31mIndentationError\u001b[0m\u001b[0;31m:\u001b[0m unexpected indent\n"
          ]
        }
      ]
    },
    {
      "cell_type": "code",
      "source": [
        "#Ignoring indentation in line continuation\n",
        "if False: s=\"ML\";print(s+\"AI\")\n",
        "else: s=\"DS\";print(s+\"-AI\")"
      ],
      "metadata": {
        "colab": {
          "base_uri": "https://localhost:8080/"
        },
        "id": "qw5FagvIkxXY",
        "outputId": "5d3fa78a-cc54-4850-93ae-c7e728fa2129"
      },
      "execution_count": null,
      "outputs": [
        {
          "output_type": "stream",
          "name": "stdout",
          "text": [
            "DS-AI\n"
          ]
        }
      ]
    },
    {
      "cell_type": "markdown",
      "source": [
        "#<h1>5. Statements"
      ],
      "metadata": {
        "id": "1MwWNYrHRAt1"
      }
    },
    {
      "cell_type": "code",
      "source": [
        "#single line\n",
        "a=10\n",
        "print(a)\n",
        "\n",
        "a=10; b=20;c=30\n",
        "print(a,b,c)\n",
        "\n",
        "#Multi-line\n",
        "b = 20+30+\\\n",
        "40+50\n",
        "print(b)\n",
        "\n",
        "c = (10+20+30\n",
        "     +40+60)\n",
        "print(c)"
      ],
      "metadata": {
        "colab": {
          "base_uri": "https://localhost:8080/"
        },
        "id": "zhaLXcYWRDbr",
        "outputId": "2ea31322-7d02-4913-efeb-b8aa310f6745"
      },
      "execution_count": null,
      "outputs": [
        {
          "output_type": "stream",
          "name": "stdout",
          "text": [
            "10\n",
            "10 20 30\n",
            "140\n",
            "160\n"
          ]
        }
      ]
    },
    {
      "cell_type": "markdown",
      "source": [
        "#<h1> 6. Variables"
      ],
      "metadata": {
        "id": "GKVbezMBxij7"
      }
    },
    {
      "cell_type": "code",
      "source": [
        "a=10\n",
        "b=10\n",
        "print(a, id(a))\n",
        "print(b, id(b))"
      ],
      "metadata": {
        "colab": {
          "base_uri": "https://localhost:8080/"
        },
        "id": "CrvUN0QfxlyU",
        "outputId": "e6c107a9-7573-4437-922f-f3803bd045cb"
      },
      "execution_count": null,
      "outputs": [
        {
          "output_type": "stream",
          "name": "stdout",
          "text": [
            "10 94690027223840\n",
            "10 94690027223840\n"
          ]
        }
      ]
    },
    {
      "cell_type": "code",
      "source": [
        "b=3\n",
        "print(b, id(b))"
      ],
      "metadata": {
        "colab": {
          "base_uri": "https://localhost:8080/"
        },
        "id": "kJ-IIW71xuO9",
        "outputId": "d5fb873e-7174-4ece-ccf6-919a7c1dd2e1"
      },
      "execution_count": null,
      "outputs": [
        {
          "output_type": "stream",
          "name": "stdout",
          "text": [
            "3 94690027223616\n"
          ]
        }
      ]
    },
    {
      "cell_type": "markdown",
      "source": [
        "#<h1> 7. Data Types"
      ],
      "metadata": {
        "id": "MmpuXcgd7zUw"
      }
    },
    {
      "cell_type": "markdown",
      "source": [
        "##<h2> 7.1. int"
      ],
      "metadata": {
        "id": "zufxdyUK9Asf"
      }
    },
    {
      "cell_type": "code",
      "source": [
        "i = 10     #Decimal\n",
        "j = 0B101  #Binary\n",
        "k = 0O145  #Octal\n",
        "l = 0X1AB  #Hexadecimal\n",
        "print(i, j, k, l)"
      ],
      "metadata": {
        "colab": {
          "base_uri": "https://localhost:8080/"
        },
        "id": "NPvBrDzy73wm",
        "outputId": "213aab36-6ea7-4a79-97a1-d0d4d3134fd7"
      },
      "execution_count": null,
      "outputs": [
        {
          "output_type": "stream",
          "name": "stdout",
          "text": [
            "10 5 101 427\n"
          ]
        }
      ]
    },
    {
      "cell_type": "code",
      "source": [
        "type(i), type(j), type(k), type(l)"
      ],
      "metadata": {
        "colab": {
          "base_uri": "https://localhost:8080/"
        },
        "id": "8Z51kIPZ8K-b",
        "outputId": "dc51c269-c770-4e33-87ed-ceb205abcf17"
      },
      "execution_count": null,
      "outputs": [
        {
          "output_type": "execute_result",
          "data": {
            "text/plain": [
              "(int, int, int, int)"
            ]
          },
          "metadata": {},
          "execution_count": 33
        }
      ]
    },
    {
      "cell_type": "code",
      "source": [
        "isinstance(l, int)"
      ],
      "metadata": {
        "colab": {
          "base_uri": "https://localhost:8080/"
        },
        "id": "s6OgtW6H6OlQ",
        "outputId": "5428c2a3-58b1-474d-c688-e2e1ca329ef5"
      },
      "execution_count": null,
      "outputs": [
        {
          "output_type": "execute_result",
          "data": {
            "text/plain": [
              "True"
            ]
          },
          "metadata": {},
          "execution_count": 34
        }
      ]
    },
    {
      "cell_type": "markdown",
      "source": [
        "##<h2>7.2. float"
      ],
      "metadata": {
        "id": "ZJxSFjt39FU9"
      }
    },
    {
      "cell_type": "code",
      "source": [
        "f = 45.76\n",
        "g = 5.5e2\n",
        "h = 7.89e-4\n",
        "print(f, g, h)"
      ],
      "metadata": {
        "colab": {
          "base_uri": "https://localhost:8080/"
        },
        "id": "rM3zSndA8ZZx",
        "outputId": "f4af74ba-b15e-4a3e-9405-c5a414703eba"
      },
      "execution_count": null,
      "outputs": [
        {
          "output_type": "stream",
          "name": "stdout",
          "text": [
            "45.76 550.0 0.000789\n"
          ]
        }
      ]
    },
    {
      "cell_type": "code",
      "source": [
        "type(f), type(g), type(h)"
      ],
      "metadata": {
        "colab": {
          "base_uri": "https://localhost:8080/"
        },
        "id": "b7PG8O6w8pUy",
        "outputId": "755fe91d-9d5a-4673-fc35-ae43ce47fb19"
      },
      "execution_count": null,
      "outputs": [
        {
          "output_type": "execute_result",
          "data": {
            "text/plain": [
              "(float, float, float)"
            ]
          },
          "metadata": {},
          "execution_count": 36
        }
      ]
    },
    {
      "cell_type": "code",
      "source": [
        "isinstance(f, float)"
      ],
      "metadata": {
        "colab": {
          "base_uri": "https://localhost:8080/"
        },
        "id": "NGdvcEaL6St4",
        "outputId": "25a67a83-0e1f-450a-b1fa-6ec7374bac99"
      },
      "execution_count": null,
      "outputs": [
        {
          "output_type": "execute_result",
          "data": {
            "text/plain": [
              "True"
            ]
          },
          "metadata": {},
          "execution_count": 38
        }
      ]
    },
    {
      "cell_type": "markdown",
      "source": [
        "##<h2> 7.3. complex"
      ],
      "metadata": {
        "id": "eHwwSF779XqF"
      }
    },
    {
      "cell_type": "code",
      "source": [
        "c = 2+3j\n",
        "d = 0.2+ 0.5j\n",
        "e = 6+4.5j\n",
        "print(c,d,e)"
      ],
      "metadata": {
        "colab": {
          "base_uri": "https://localhost:8080/"
        },
        "id": "DXILkAqa9axO",
        "outputId": "675dca3a-8410-44a0-8693-7eeffb2ed555"
      },
      "execution_count": null,
      "outputs": [
        {
          "output_type": "stream",
          "name": "stdout",
          "text": [
            "(2+3j) (0.2+0.5j) (6+4.5j)\n"
          ]
        }
      ]
    },
    {
      "cell_type": "code",
      "source": [
        "type(c), type(d), type(e)"
      ],
      "metadata": {
        "colab": {
          "base_uri": "https://localhost:8080/"
        },
        "id": "Ong8Q1uL9epO",
        "outputId": "469f3fc5-ca7a-4640-8e44-924eedd94b8a"
      },
      "execution_count": null,
      "outputs": [
        {
          "output_type": "execute_result",
          "data": {
            "text/plain": [
              "(complex, complex, complex)"
            ]
          },
          "metadata": {},
          "execution_count": 23
        }
      ]
    },
    {
      "cell_type": "code",
      "source": [
        "isinstance(c, complex)"
      ],
      "metadata": {
        "colab": {
          "base_uri": "https://localhost:8080/"
        },
        "id": "wroYheZ86ljj",
        "outputId": "059ec457-fbd1-47bf-a2a9-e22e27dc296d"
      },
      "execution_count": null,
      "outputs": [
        {
          "output_type": "execute_result",
          "data": {
            "text/plain": [
              "True"
            ]
          },
          "metadata": {},
          "execution_count": 39
        }
      ]
    },
    {
      "cell_type": "markdown",
      "source": [
        "##<h2> 7.4. bool"
      ],
      "metadata": {
        "id": "micTzutZ9osS"
      }
    },
    {
      "cell_type": "code",
      "source": [
        "x = True\n",
        "y = False\n",
        "print(x,y)"
      ],
      "metadata": {
        "colab": {
          "base_uri": "https://localhost:8080/"
        },
        "id": "qVoLQ9Z-9thu",
        "outputId": "13c193c0-d1fb-4e38-86e8-3857e0c3cc57"
      },
      "execution_count": null,
      "outputs": [
        {
          "output_type": "stream",
          "name": "stdout",
          "text": [
            "True False\n"
          ]
        }
      ]
    },
    {
      "cell_type": "code",
      "source": [
        "type(x), type(y)"
      ],
      "metadata": {
        "colab": {
          "base_uri": "https://localhost:8080/"
        },
        "id": "Frt7J54c91ul",
        "outputId": "b3973af1-80f6-4875-b36c-b9fe2af043b4"
      },
      "execution_count": null,
      "outputs": [
        {
          "output_type": "execute_result",
          "data": {
            "text/plain": [
              "(bool, bool)"
            ]
          },
          "metadata": {},
          "execution_count": 25
        }
      ]
    },
    {
      "cell_type": "code",
      "source": [
        "isinstance(x, bool)"
      ],
      "metadata": {
        "colab": {
          "base_uri": "https://localhost:8080/"
        },
        "id": "ghYiqyL-6o81",
        "outputId": "d0166224-c9ee-410b-910c-50d84a68c393"
      },
      "execution_count": null,
      "outputs": [
        {
          "output_type": "execute_result",
          "data": {
            "text/plain": [
              "True"
            ]
          },
          "metadata": {},
          "execution_count": 40
        }
      ]
    },
    {
      "cell_type": "markdown",
      "source": [
        "##<h2> 7.5. Strings"
      ],
      "metadata": {
        "id": "U1ffRjfn96gP"
      }
    },
    {
      "cell_type": "code",
      "source": [
        "s1 = 'Python'\n",
        "s2 = \"Python\"\n",
        "print(s1, s2)"
      ],
      "metadata": {
        "colab": {
          "base_uri": "https://localhost:8080/"
        },
        "id": "gZImC0zX99Mj",
        "outputId": "0ee6fa27-4abc-488c-f5df-79c46101883e"
      },
      "execution_count": null,
      "outputs": [
        {
          "output_type": "stream",
          "name": "stdout",
          "text": [
            "Python Python\n"
          ]
        }
      ]
    },
    {
      "cell_type": "code",
      "source": [
        "type(s1), type(s2)"
      ],
      "metadata": {
        "colab": {
          "base_uri": "https://localhost:8080/"
        },
        "id": "OwvQYCbH-EO-",
        "outputId": "29a08c82-b9d0-48ec-ecd5-17f234ba5e7d"
      },
      "execution_count": null,
      "outputs": [
        {
          "output_type": "execute_result",
          "data": {
            "text/plain": [
              "(str, str)"
            ]
          },
          "metadata": {},
          "execution_count": 27
        }
      ]
    },
    {
      "cell_type": "code",
      "source": [
        "isinstance(s1, str)"
      ],
      "metadata": {
        "colab": {
          "base_uri": "https://localhost:8080/"
        },
        "id": "7xou32P16rv8",
        "outputId": "44074c51-0f91-4e91-bc58-845827678697"
      },
      "execution_count": null,
      "outputs": [
        {
          "output_type": "execute_result",
          "data": {
            "text/plain": [
              "True"
            ]
          },
          "metadata": {},
          "execution_count": 41
        }
      ]
    },
    {
      "cell_type": "code",
      "source": [
        "s1==s2"
      ],
      "metadata": {
        "colab": {
          "base_uri": "https://localhost:8080/"
        },
        "id": "k-KRrRwx-UMx",
        "outputId": "46193911-c4e0-4678-9b6b-e13a235b42ad"
      },
      "execution_count": null,
      "outputs": [
        {
          "output_type": "execute_result",
          "data": {
            "text/plain": [
              "True"
            ]
          },
          "metadata": {},
          "execution_count": 28
        }
      ]
    },
    {
      "cell_type": "code",
      "source": [
        "#Multiline\n",
        "s = \"\"\"This is a multi-line\n",
        "string example\"\"\"\n",
        "s"
      ],
      "metadata": {
        "colab": {
          "base_uri": "https://localhost:8080/",
          "height": 35
        },
        "id": "AHvQtLo_556w",
        "outputId": "4eede06f-db05-4458-f6d4-5c90886b74e4"
      },
      "execution_count": null,
      "outputs": [
        {
          "output_type": "execute_result",
          "data": {
            "text/plain": [
              "'This is a multi-line\\nstring example'"
            ],
            "application/vnd.google.colaboratory.intrinsic+json": {
              "type": "string"
            }
          },
          "metadata": {},
          "execution_count": 31
        }
      ]
    },
    {
      "cell_type": "code",
      "source": [
        "s = \"This is a non-stop learning journey\"\n",
        "print(s[0])\n",
        "print(s[-1])\n",
        "print(s[len(s)-1])\n",
        "print(s[-2])"
      ],
      "metadata": {
        "colab": {
          "base_uri": "https://localhost:8080/"
        },
        "id": "ut5rIHg661qm",
        "outputId": "40b44dbe-2f42-4767-d783-ff09080989c8"
      },
      "execution_count": null,
      "outputs": [
        {
          "output_type": "stream",
          "name": "stdout",
          "text": [
            "T\n",
            "y\n",
            "y\n",
            "e\n"
          ]
        }
      ]
    },
    {
      "cell_type": "code",
      "source": [
        "s[8:30]"
      ],
      "metadata": {
        "colab": {
          "base_uri": "https://localhost:8080/",
          "height": 35
        },
        "id": "I3cPHKtH7ISc",
        "outputId": "50f79102-f8c9-4d97-e585-8c9943cc3c78"
      },
      "execution_count": null,
      "outputs": [
        {
          "output_type": "execute_result",
          "data": {
            "text/plain": [
              "'a non-stop learning jo'"
            ],
            "application/vnd.google.colaboratory.intrinsic+json": {
              "type": "string"
            }
          },
          "metadata": {},
          "execution_count": 51
        }
      ]
    },
    {
      "cell_type": "markdown",
      "source": [
        "##<h2> 7.6. List"
      ],
      "metadata": {
        "id": "xRuIp8II7hlm"
      }
    },
    {
      "cell_type": "code",
      "source": [
        "l = [10, \"python\", 1.34, True]\n",
        "l"
      ],
      "metadata": {
        "id": "RV9MHdHN7kb3",
        "colab": {
          "base_uri": "https://localhost:8080/"
        },
        "outputId": "7bb05d39-66e7-4b0e-e507-1adfe99ca8a2"
      },
      "execution_count": null,
      "outputs": [
        {
          "output_type": "execute_result",
          "data": {
            "text/plain": [
              "[10, 'python', 1.34, True]"
            ]
          },
          "metadata": {},
          "execution_count": 1
        }
      ]
    },
    {
      "cell_type": "code",
      "source": [
        "type(l)"
      ],
      "metadata": {
        "colab": {
          "base_uri": "https://localhost:8080/"
        },
        "id": "k-bsC88DbOZz",
        "outputId": "0a26b642-350a-42e2-d53e-096c210e8683"
      },
      "execution_count": null,
      "outputs": [
        {
          "output_type": "execute_result",
          "data": {
            "text/plain": [
              "list"
            ]
          },
          "metadata": {},
          "execution_count": 8
        }
      ]
    },
    {
      "cell_type": "code",
      "source": [
        "isinstance(l, list)"
      ],
      "metadata": {
        "colab": {
          "base_uri": "https://localhost:8080/"
        },
        "id": "ffCHv1_QbPiP",
        "outputId": "44dbbc69-5f9b-438b-deb9-1d8056f4a36c"
      },
      "execution_count": null,
      "outputs": [
        {
          "output_type": "execute_result",
          "data": {
            "text/plain": [
              "True"
            ]
          },
          "metadata": {},
          "execution_count": 9
        }
      ]
    },
    {
      "cell_type": "code",
      "source": [
        "l[:2]"
      ],
      "metadata": {
        "colab": {
          "base_uri": "https://localhost:8080/"
        },
        "id": "qMc-Oc_yagY6",
        "outputId": "4c538688-f77b-4767-e102-cd69b1a6824c"
      },
      "execution_count": null,
      "outputs": [
        {
          "output_type": "execute_result",
          "data": {
            "text/plain": [
              "[10, 'python']"
            ]
          },
          "metadata": {},
          "execution_count": 2
        }
      ]
    },
    {
      "cell_type": "code",
      "source": [
        "l[-1]"
      ],
      "metadata": {
        "colab": {
          "base_uri": "https://localhost:8080/"
        },
        "id": "T2A1B-bNaiYI",
        "outputId": "778b6677-27be-4b60-c21b-c8de5b0143bd"
      },
      "execution_count": null,
      "outputs": [
        {
          "output_type": "execute_result",
          "data": {
            "text/plain": [
              "True"
            ]
          },
          "metadata": {},
          "execution_count": 3
        }
      ]
    },
    {
      "cell_type": "code",
      "source": [
        "l[-2] = 776.98\n",
        "l"
      ],
      "metadata": {
        "colab": {
          "base_uri": "https://localhost:8080/"
        },
        "id": "As4xA5PDaqm-",
        "outputId": "2c6ef4ac-779a-4a36-d20c-5884745cb4d3"
      },
      "execution_count": null,
      "outputs": [
        {
          "output_type": "execute_result",
          "data": {
            "text/plain": [
              "[10, 'python', 776.98, True]"
            ]
          },
          "metadata": {},
          "execution_count": 4
        }
      ]
    },
    {
      "cell_type": "markdown",
      "source": [
        "##<h2> 7.7. Tuple"
      ],
      "metadata": {
        "id": "9eiu3HSQaui_"
      }
    },
    {
      "cell_type": "code",
      "source": [
        "t = (1+2j, False, 102, \"Hello\", 1.56)\n",
        "t"
      ],
      "metadata": {
        "colab": {
          "base_uri": "https://localhost:8080/"
        },
        "id": "ja_qg3tbaxnw",
        "outputId": "231c0f57-e6d3-42ef-99b7-3861cf95f6b8"
      },
      "execution_count": null,
      "outputs": [
        {
          "output_type": "execute_result",
          "data": {
            "text/plain": [
              "((1+2j), False, 102, 'Hello', 1.56)"
            ]
          },
          "metadata": {},
          "execution_count": 5
        }
      ]
    },
    {
      "cell_type": "code",
      "source": [
        "type(t)"
      ],
      "metadata": {
        "colab": {
          "base_uri": "https://localhost:8080/"
        },
        "id": "MLNfL-9obXTY",
        "outputId": "217b9a2e-f669-4970-e5cf-113749063f3b"
      },
      "execution_count": null,
      "outputs": [
        {
          "output_type": "execute_result",
          "data": {
            "text/plain": [
              "tuple"
            ]
          },
          "metadata": {},
          "execution_count": 11
        }
      ]
    },
    {
      "cell_type": "code",
      "source": [
        "isinstance(t, tuple)"
      ],
      "metadata": {
        "colab": {
          "base_uri": "https://localhost:8080/"
        },
        "id": "KU13JKZzbYnK",
        "outputId": "faefc493-34cc-4da6-a470-969db84b7cdb"
      },
      "execution_count": null,
      "outputs": [
        {
          "output_type": "execute_result",
          "data": {
            "text/plain": [
              "True"
            ]
          },
          "metadata": {},
          "execution_count": 12
        }
      ]
    },
    {
      "cell_type": "code",
      "source": [
        "t[-3:]"
      ],
      "metadata": {
        "colab": {
          "base_uri": "https://localhost:8080/"
        },
        "id": "wEWV9AYfa_AD",
        "outputId": "83c59ba5-2d2d-4c81-b0c9-d0f40bd6084e"
      },
      "execution_count": null,
      "outputs": [
        {
          "output_type": "execute_result",
          "data": {
            "text/plain": [
              "(102, 'Hello', 1.56)"
            ]
          },
          "metadata": {},
          "execution_count": 6
        }
      ]
    },
    {
      "cell_type": "code",
      "source": [
        "t[2] = \"set this\""
      ],
      "metadata": {
        "colab": {
          "base_uri": "https://localhost:8080/",
          "height": 166
        },
        "id": "nCZifn_nbB1c",
        "outputId": "0d76b79e-a533-488f-a27f-ce0a5506d810"
      },
      "execution_count": null,
      "outputs": [
        {
          "output_type": "error",
          "ename": "TypeError",
          "evalue": "ignored",
          "traceback": [
            "\u001b[0;31m---------------------------------------------------------------------------\u001b[0m",
            "\u001b[0;31mTypeError\u001b[0m                                 Traceback (most recent call last)",
            "\u001b[0;32m<ipython-input-7-ac72b1194c6c>\u001b[0m in \u001b[0;36m<module>\u001b[0;34m()\u001b[0m\n\u001b[0;32m----> 1\u001b[0;31m \u001b[0mt\u001b[0m\u001b[0;34m[\u001b[0m\u001b[0;36m2\u001b[0m\u001b[0;34m]\u001b[0m \u001b[0;34m=\u001b[0m \u001b[0;34m\"set this\"\u001b[0m\u001b[0;34m\u001b[0m\u001b[0;34m\u001b[0m\u001b[0m\n\u001b[0m",
            "\u001b[0;31mTypeError\u001b[0m: 'tuple' object does not support item assignment"
          ]
        }
      ]
    },
    {
      "cell_type": "markdown",
      "source": [
        "##<h2> 7.8. Set"
      ],
      "metadata": {
        "id": "GqbD67LnbFw7"
      }
    },
    {
      "cell_type": "code",
      "source": [
        "s = {10,50,60,20,10,50}\n",
        "s"
      ],
      "metadata": {
        "colab": {
          "base_uri": "https://localhost:8080/"
        },
        "id": "q6uR5b_MbJEp",
        "outputId": "02dd8c7e-498c-4c32-993f-a1d6110178c5"
      },
      "execution_count": null,
      "outputs": [
        {
          "output_type": "execute_result",
          "data": {
            "text/plain": [
              "{10, 20, 50, 60}"
            ]
          },
          "metadata": {},
          "execution_count": 10
        }
      ]
    },
    {
      "cell_type": "code",
      "source": [
        "type(s)"
      ],
      "metadata": {
        "colab": {
          "base_uri": "https://localhost:8080/"
        },
        "id": "6ZRVHn7ObbR8",
        "outputId": "918b1a15-94ec-4020-a1f7-032766667c60"
      },
      "execution_count": null,
      "outputs": [
        {
          "output_type": "execute_result",
          "data": {
            "text/plain": [
              "set"
            ]
          },
          "metadata": {},
          "execution_count": 13
        }
      ]
    },
    {
      "cell_type": "code",
      "source": [
        "isinstance(s, set)"
      ],
      "metadata": {
        "colab": {
          "base_uri": "https://localhost:8080/"
        },
        "id": "Xe8NxN6abuud",
        "outputId": "51d66488-def1-4776-b612-a2db915e3899"
      },
      "execution_count": null,
      "outputs": [
        {
          "output_type": "execute_result",
          "data": {
            "text/plain": [
              "True"
            ]
          },
          "metadata": {},
          "execution_count": 14
        }
      ]
    },
    {
      "cell_type": "code",
      "source": [
        "s[2]"
      ],
      "metadata": {
        "colab": {
          "base_uri": "https://localhost:8080/",
          "height": 166
        },
        "id": "Pm41LzlKbwu3",
        "outputId": "4c902632-78ee-4f76-a1cb-e3342f556ac2"
      },
      "execution_count": null,
      "outputs": [
        {
          "output_type": "error",
          "ename": "TypeError",
          "evalue": "ignored",
          "traceback": [
            "\u001b[0;31m---------------------------------------------------------------------------\u001b[0m",
            "\u001b[0;31mTypeError\u001b[0m                                 Traceback (most recent call last)",
            "\u001b[0;32m<ipython-input-15-f70620bf1203>\u001b[0m in \u001b[0;36m<module>\u001b[0;34m()\u001b[0m\n\u001b[0;32m----> 1\u001b[0;31m \u001b[0ms\u001b[0m\u001b[0;34m[\u001b[0m\u001b[0;36m2\u001b[0m\u001b[0;34m]\u001b[0m\u001b[0;34m\u001b[0m\u001b[0;34m\u001b[0m\u001b[0m\n\u001b[0m",
            "\u001b[0;31mTypeError\u001b[0m: 'set' object is not subscriptable"
          ]
        }
      ]
    },
    {
      "cell_type": "markdown",
      "source": [
        "##<h2> 7.9. Dictionary"
      ],
      "metadata": {
        "id": "PBjGBLuWb3Id"
      }
    },
    {
      "cell_type": "code",
      "source": [
        "d = {\"Python\": 90, \"Java\" : 88, \"C\": 85, \"C++\": 89}\n",
        "d"
      ],
      "metadata": {
        "colab": {
          "base_uri": "https://localhost:8080/"
        },
        "id": "3Lm6F5yyb57m",
        "outputId": "c25a6b3b-6e6f-4be3-ae6e-b9acb4b62ca7"
      },
      "execution_count": null,
      "outputs": [
        {
          "output_type": "execute_result",
          "data": {
            "text/plain": [
              "{'C': 85, 'C++': 89, 'Java': 88, 'Python': 90}"
            ]
          },
          "metadata": {},
          "execution_count": 16
        }
      ]
    },
    {
      "cell_type": "code",
      "source": [
        "type(d)"
      ],
      "metadata": {
        "colab": {
          "base_uri": "https://localhost:8080/"
        },
        "id": "ARg289_DcOvj",
        "outputId": "ac7d349d-19fd-459d-e3f8-e355ccb2a9b1"
      },
      "execution_count": null,
      "outputs": [
        {
          "output_type": "execute_result",
          "data": {
            "text/plain": [
              "dict"
            ]
          },
          "metadata": {},
          "execution_count": 17
        }
      ]
    },
    {
      "cell_type": "code",
      "source": [
        "isinstance(d, dict)"
      ],
      "metadata": {
        "colab": {
          "base_uri": "https://localhost:8080/"
        },
        "id": "g-jsI-iucPqZ",
        "outputId": "0884bf03-5625-42b7-87a2-5f8b33997c9f"
      },
      "execution_count": null,
      "outputs": [
        {
          "output_type": "execute_result",
          "data": {
            "text/plain": [
              "True"
            ]
          },
          "metadata": {},
          "execution_count": 18
        }
      ]
    },
    {
      "cell_type": "code",
      "source": [
        "d[\"C\"]"
      ],
      "metadata": {
        "colab": {
          "base_uri": "https://localhost:8080/"
        },
        "id": "jKnLw9B6cTDM",
        "outputId": "7091e190-16e4-47f2-ba2c-390d2b73ed8f"
      },
      "execution_count": null,
      "outputs": [
        {
          "output_type": "execute_result",
          "data": {
            "text/plain": [
              "85"
            ]
          },
          "metadata": {},
          "execution_count": 19
        }
      ]
    },
    {
      "cell_type": "code",
      "source": [
        "d[\"Ruby\"]"
      ],
      "metadata": {
        "colab": {
          "base_uri": "https://localhost:8080/",
          "height": 166
        },
        "id": "aAngS_55cVIe",
        "outputId": "e20fed18-7af9-4ee0-a9e4-45a3a8251093"
      },
      "execution_count": null,
      "outputs": [
        {
          "output_type": "error",
          "ename": "KeyError",
          "evalue": "ignored",
          "traceback": [
            "\u001b[0;31m---------------------------------------------------------------------------\u001b[0m",
            "\u001b[0;31mKeyError\u001b[0m                                  Traceback (most recent call last)",
            "\u001b[0;32m<ipython-input-20-f23ee5fe1475>\u001b[0m in \u001b[0;36m<module>\u001b[0;34m()\u001b[0m\n\u001b[0;32m----> 1\u001b[0;31m \u001b[0md\u001b[0m\u001b[0;34m[\u001b[0m\u001b[0;34m\"Ruby\"\u001b[0m\u001b[0;34m]\u001b[0m\u001b[0;34m\u001b[0m\u001b[0;34m\u001b[0m\u001b[0m\n\u001b[0m",
            "\u001b[0;31mKeyError\u001b[0m: 'Ruby'"
          ]
        }
      ]
    },
    {
      "cell_type": "markdown",
      "source": [
        "#<h1> 8. Type Casting"
      ],
      "metadata": {
        "id": "FprHwsg_dTme"
      }
    },
    {
      "cell_type": "code",
      "source": [
        "a = int(2.5)\n",
        "s = str(102)\n",
        "f = float(8)\n",
        "print(a)\n",
        "print(s)\n",
        "print(f)"
      ],
      "metadata": {
        "colab": {
          "base_uri": "https://localhost:8080/"
        },
        "id": "27kHtiwadWaI",
        "outputId": "11c7b3c7-604f-4ad3-e409-89282d8bcf4d"
      },
      "execution_count": null,
      "outputs": [
        {
          "output_type": "stream",
          "name": "stdout",
          "text": [
            "2\n",
            "102\n",
            "8.0\n"
          ]
        }
      ]
    },
    {
      "cell_type": "code",
      "source": [
        "s = str(10.2)\n",
        "k = int(\"12\")\n",
        "print(s)\n",
        "print(k)"
      ],
      "metadata": {
        "colab": {
          "base_uri": "https://localhost:8080/"
        },
        "id": "yL_gH07OdnN-",
        "outputId": "0afd47e6-a01f-40df-8757-f0744343bdcf"
      },
      "execution_count": null,
      "outputs": [
        {
          "output_type": "stream",
          "name": "stdout",
          "text": [
            "10.2\n",
            "12\n"
          ]
        }
      ]
    },
    {
      "cell_type": "code",
      "source": [
        "s = \"Python is a programming language\"\n",
        "l1 = s.split()\n",
        "l1"
      ],
      "metadata": {
        "colab": {
          "base_uri": "https://localhost:8080/"
        },
        "id": "jJhm85TG4XTC",
        "outputId": "dea5bcf8-66ca-4177-96fb-6976fe2a3b4d"
      },
      "execution_count": null,
      "outputs": [
        {
          "output_type": "execute_result",
          "data": {
            "text/plain": [
              "['Python', 'is', 'a', 'programming', 'language']"
            ]
          },
          "metadata": {},
          "execution_count": 27
        }
      ]
    },
    {
      "cell_type": "code",
      "source": [
        "l2  = list(s)\n",
        "print(l2)"
      ],
      "metadata": {
        "colab": {
          "base_uri": "https://localhost:8080/"
        },
        "id": "0TFyPUYE4_ay",
        "outputId": "6d2ab9fe-30e9-425f-e1e1-929c83a63224"
      },
      "execution_count": null,
      "outputs": [
        {
          "output_type": "stream",
          "name": "stdout",
          "text": [
            "['P', 'y', 't', 'h', 'o', 'n', ' ', 'i', 's', ' ', 'a', ' ', 'p', 'r', 'o', 'g', 'r', 'a', 'm', 'm', 'i', 'n', 'g', ' ', 'l', 'a', 'n', 'g', 'u', 'a', 'g', 'e']\n"
          ]
        }
      ]
    },
    {
      "cell_type": "code",
      "source": [
        "num = {2,4,6,8,2,8,6}\n",
        "num_list = list(num)\n",
        "num_list"
      ],
      "metadata": {
        "colab": {
          "base_uri": "https://localhost:8080/"
        },
        "id": "GLccz9-J4o6w",
        "outputId": "abebc401-fceb-463f-fea0-36b7ee56c8ef"
      },
      "execution_count": null,
      "outputs": [
        {
          "output_type": "execute_result",
          "data": {
            "text/plain": [
              "[8, 2, 4, 6]"
            ]
          },
          "metadata": {},
          "execution_count": 30
        }
      ]
    },
    {
      "cell_type": "code",
      "source": [
        "list_of_tuples = [(10, \"steve\"), (30, \"adam\"), (\"40\", \"bob\")]\n",
        "d = dict(list_of_tuples)\n",
        "d"
      ],
      "metadata": {
        "colab": {
          "base_uri": "https://localhost:8080/"
        },
        "id": "ZgZptYLn5Nw9",
        "outputId": "3ced3171-4fa2-459a-e5f2-4c6c4204fec1"
      },
      "execution_count": null,
      "outputs": [
        {
          "output_type": "execute_result",
          "data": {
            "text/plain": [
              "{10: 'steve', 30: 'adam', '40': 'bob'}"
            ]
          },
          "metadata": {},
          "execution_count": 34
        }
      ]
    },
    {
      "cell_type": "markdown",
      "source": [
        "#<h1> 9. Standard Input and Output"
      ],
      "metadata": {
        "id": "83mKWbqP54Xf"
      }
    },
    {
      "cell_type": "code",
      "source": [
        "a = input(\"Enter a number: \")\n",
        "print(\"Square of the number is= \", a**2)"
      ],
      "metadata": {
        "colab": {
          "base_uri": "https://localhost:8080/",
          "height": 200
        },
        "id": "J5RlXvLm58ko",
        "outputId": "b30e462d-fd0f-4ead-9619-a7f7e866f2d1"
      },
      "execution_count": null,
      "outputs": [
        {
          "name": "stdout",
          "output_type": "stream",
          "text": [
            "Enter a number: 10\n"
          ]
        },
        {
          "output_type": "error",
          "ename": "TypeError",
          "evalue": "ignored",
          "traceback": [
            "\u001b[0;31m---------------------------------------------------------------------------\u001b[0m",
            "\u001b[0;31mTypeError\u001b[0m                                 Traceback (most recent call last)",
            "\u001b[0;32m<ipython-input-38-fa65b09f46a8>\u001b[0m in \u001b[0;36m<module>\u001b[0;34m()\u001b[0m\n\u001b[1;32m      1\u001b[0m \u001b[0ma\u001b[0m \u001b[0;34m=\u001b[0m \u001b[0minput\u001b[0m\u001b[0;34m(\u001b[0m\u001b[0;34m\"Enter a number: \"\u001b[0m\u001b[0;34m)\u001b[0m\u001b[0;34m\u001b[0m\u001b[0;34m\u001b[0m\u001b[0m\n\u001b[0;32m----> 2\u001b[0;31m \u001b[0mprint\u001b[0m\u001b[0;34m(\u001b[0m\u001b[0;34m\"Square of the number is= \"\u001b[0m\u001b[0;34m,\u001b[0m \u001b[0ma\u001b[0m\u001b[0;34m**\u001b[0m\u001b[0;36m2\u001b[0m\u001b[0;34m)\u001b[0m\u001b[0;34m\u001b[0m\u001b[0;34m\u001b[0m\u001b[0m\n\u001b[0m",
            "\u001b[0;31mTypeError\u001b[0m: unsupported operand type(s) for ** or pow(): 'str' and 'int'"
          ]
        }
      ]
    },
    {
      "cell_type": "code",
      "source": [
        "a = int(input(\"Enter a number: \"))\n",
        "print(\"Square of the number is= \", a**2)"
      ],
      "metadata": {
        "colab": {
          "base_uri": "https://localhost:8080/"
        },
        "id": "iqhSbd3Y6KsS",
        "outputId": "cc472352-6bd7-4a54-d066-18a5a65d09c5"
      },
      "execution_count": null,
      "outputs": [
        {
          "output_type": "stream",
          "name": "stdout",
          "text": [
            "Enter a number: 10\n",
            "Square of the number is=  100\n"
          ]
        }
      ]
    },
    {
      "cell_type": "code",
      "source": [
        "print(\"Hello world\")\n",
        "\n",
        "i=2\n",
        "print(\"Hello world\", i)\n",
        "\n",
        "i,j=1,2\n",
        "print(\"Hello world-{} and world-{}\".format(i,j))\n",
        "print(\"Hello world-{1} and world-{0}\".format(i,j))\n",
        "\n",
        "print(\"Hello {name}, {greetings}\".format(name=\"Naveen\", greetings=\"Good Morning\"))\n",
        "print(\"Hello {0}, {1} and {2}, {greetings}\".format(\"Dave\", \"Bob\", \"Steve\", greetings=\"Good Morning\"))"
      ],
      "metadata": {
        "colab": {
          "base_uri": "https://localhost:8080/"
        },
        "id": "o9761nwT6OmO",
        "outputId": "e03fdc3a-0b73-4ffc-ae8e-ba919c34144c"
      },
      "execution_count": null,
      "outputs": [
        {
          "output_type": "stream",
          "name": "stdout",
          "text": [
            "Hello world\n",
            "Hello world 2\n",
            "Hello world-1 and world-2\n",
            "Hello world-2 and world-1\n",
            "Hello Naveen, Good Morning\n",
            "Hello Dave, Bob and Steve, Good Morning\n"
          ]
        }
      ]
    },
    {
      "cell_type": "markdown",
      "source": [
        "#<h1> 10.Operators"
      ],
      "metadata": {
        "id": "uEphjsKUCYke"
      }
    },
    {
      "cell_type": "code",
      "source": [
        "#Arithmetic\n",
        "a, b = 11,2\n",
        "print(a+b)\n",
        "print(a-b)\n",
        "print(a*b)\n",
        "print(a/b)\n",
        "print(a//b)\n",
        "print(a%b)\n",
        "print(a**b)"
      ],
      "metadata": {
        "colab": {
          "base_uri": "https://localhost:8080/"
        },
        "id": "zNdM07FnCcYg",
        "outputId": "ef67707f-9bfb-4125-e7a0-91ab30775808"
      },
      "execution_count": null,
      "outputs": [
        {
          "output_type": "stream",
          "name": "stdout",
          "text": [
            "13\n",
            "9\n",
            "22\n",
            "5.5\n",
            "5\n",
            "1\n",
            "121\n"
          ]
        }
      ]
    },
    {
      "cell_type": "code",
      "source": [
        "#Comparision\n",
        "print(a>=b)\n",
        "print(a==b)"
      ],
      "metadata": {
        "colab": {
          "base_uri": "https://localhost:8080/"
        },
        "id": "O5g_2AoCC07A",
        "outputId": "4085d0f8-e7cf-4f15-e2df-17170ab53f01"
      },
      "execution_count": null,
      "outputs": [
        {
          "output_type": "stream",
          "name": "stdout",
          "text": [
            "True\n",
            "False\n"
          ]
        }
      ]
    },
    {
      "cell_type": "code",
      "source": [
        "#Logical\n",
        "a,b = True, False\n",
        "print(a and b)"
      ],
      "metadata": {
        "colab": {
          "base_uri": "https://localhost:8080/"
        },
        "id": "YHH8NRjpC9Wg",
        "outputId": "25dfce33-02bc-48ec-e069-ee746a5485e5"
      },
      "execution_count": null,
      "outputs": [
        {
          "output_type": "stream",
          "name": "stdout",
          "text": [
            "False\n"
          ]
        }
      ]
    },
    {
      "cell_type": "code",
      "source": [
        "#Bitwise\n",
        "a, b = 13,2\n",
        "print(a&b) #1101 & 0010\n",
        "print(a|b)\n",
        "print(~a)\n",
        "print(a^b)\n",
        "print(a>>1)\n",
        "print(a<<1)"
      ],
      "metadata": {
        "colab": {
          "base_uri": "https://localhost:8080/"
        },
        "id": "UMr3DwOZDEpF",
        "outputId": "225ad6bb-eecd-4632-80c5-2b45deadee98"
      },
      "execution_count": null,
      "outputs": [
        {
          "output_type": "stream",
          "name": "stdout",
          "text": [
            "0\n",
            "15\n",
            "-14\n",
            "15\n",
            "6\n",
            "26\n"
          ]
        }
      ]
    },
    {
      "cell_type": "code",
      "source": [
        "#Assignment\n",
        "a=10\n",
        "\n",
        "a+=30\n",
        "print(a)\n",
        "\n",
        "a**=2\n",
        "print(a)"
      ],
      "metadata": {
        "colab": {
          "base_uri": "https://localhost:8080/"
        },
        "id": "maXSaaMmECX-",
        "outputId": "762a401a-244d-4da2-c09a-6426d4295f35"
      },
      "execution_count": null,
      "outputs": [
        {
          "output_type": "stream",
          "name": "stdout",
          "text": [
            "40\n",
            "1600\n"
          ]
        }
      ]
    },
    {
      "cell_type": "code",
      "source": [
        "#Identity\n",
        "a = 10\n",
        "b = 10\n",
        "print(a, id(a))\n",
        "print(b, id(b))\n",
        "print(a is b)\n",
        "\n",
        "l1 = [10,20,30]\n",
        "l2 = [10,20,30]\n",
        "print(l1, id(l1))\n",
        "print(l2, id(l2))\n",
        "print(l1 is l2)"
      ],
      "metadata": {
        "colab": {
          "base_uri": "https://localhost:8080/"
        },
        "id": "YxDlZ9ZWEezK",
        "outputId": "679e0e97-ef50-41e1-c779-594a2e79e770"
      },
      "execution_count": null,
      "outputs": [
        {
          "output_type": "stream",
          "name": "stdout",
          "text": [
            "10 94803962981152\n",
            "10 94803962981152\n",
            "True\n",
            "[10, 20, 30] 140313452639248\n",
            "[10, 20, 30] 140313452725504\n",
            "False\n"
          ]
        }
      ]
    },
    {
      "cell_type": "code",
      "source": [
        "#Membership\n",
        "l1 = [10, 20, 30]\n",
        "print(20 in l1)\n",
        "\n",
        "s1 = {100, 200, 10}\n",
        "print(200 not in s1)\n",
        "\n",
        "d1 = {10: \"Hyderbad\", 20 : \"Chennai\", 30: \"Mumbai\"}\n",
        "print(40 in d1)\n",
        "print(\"Chennai\" in d1)\n",
        "print(30 in d1)"
      ],
      "metadata": {
        "colab": {
          "base_uri": "https://localhost:8080/"
        },
        "id": "-aR__YjOE_l8",
        "outputId": "c5ca4c79-16be-4b02-b8d6-244fd12c077c"
      },
      "execution_count": 28,
      "outputs": [
        {
          "output_type": "stream",
          "name": "stdout",
          "text": [
            "True\n",
            "False\n",
            "False\n",
            "False\n",
            "True\n"
          ]
        }
      ]
    },
    {
      "cell_type": "markdown",
      "source": [
        "#<h1> 11. Control-flow"
      ],
      "metadata": {
        "id": "6yfSXtcnEJOx"
      }
    },
    {
      "cell_type": "markdown",
      "source": [
        "##<h2> 11.1. if-elif-else"
      ],
      "metadata": {
        "id": "tXL4BOm6G6J-"
      }
    },
    {
      "cell_type": "code",
      "source": [
        "a = 10\n",
        "if a<5:\n",
        "  print(\"line1\")\n",
        "elif a<8:\n",
        "  print(\"line2\")\n",
        "else:\n",
        "  print(\"line3\")\n",
        "print(\"checking the value of a.\")"
      ],
      "metadata": {
        "colab": {
          "base_uri": "https://localhost:8080/"
        },
        "id": "BjUI3vemEM3a",
        "outputId": "e9b97a28-25e9-416c-9c1b-0476401e3119"
      },
      "execution_count": null,
      "outputs": [
        {
          "output_type": "stream",
          "name": "stdout",
          "text": [
            "line3\n",
            "checking the value of a.\n"
          ]
        }
      ]
    },
    {
      "cell_type": "code",
      "source": [
        "if 0:\n",
        "  print(\"line1\")\n",
        "elif None:\n",
        "  print(\"line2\")\n",
        "elif False:\n",
        "  print(\"line3\")\n",
        "else:\n",
        "  print(\"line4\")"
      ],
      "metadata": {
        "colab": {
          "base_uri": "https://localhost:8080/"
        },
        "id": "4rOsKu_sEu_d",
        "outputId": "eafbc676-725f-4912-df9a-f7510607329d"
      },
      "execution_count": null,
      "outputs": [
        {
          "output_type": "stream",
          "name": "stdout",
          "text": [
            "line4\n"
          ]
        }
      ]
    },
    {
      "cell_type": "code",
      "source": [
        "if -1:\n",
        "  print(\"line1\")\n",
        "\n",
        "if 2:\n",
        "  print(\"line2\")\n",
        "\n",
        "if True:\n",
        "  print(\"line3\")"
      ],
      "metadata": {
        "colab": {
          "base_uri": "https://localhost:8080/"
        },
        "id": "v1myI_3AGjX1",
        "outputId": "f986dece-9c5e-433e-c741-007af8baef3f"
      },
      "execution_count": null,
      "outputs": [
        {
          "output_type": "stream",
          "name": "stdout",
          "text": [
            "line1\n",
            "line2\n",
            "line3\n"
          ]
        }
      ]
    },
    {
      "cell_type": "code",
      "source": [
        "a = 10\n",
        "if a >10:\n",
        "  print(\"line1\")\n",
        "else:\n",
        "  if a%2 != 0:\n",
        "    print(\"line2\")\n",
        "  else:\n",
        "    print(\"line3\")"
      ],
      "metadata": {
        "colab": {
          "base_uri": "https://localhost:8080/"
        },
        "id": "aEJfWhz2GsV3",
        "outputId": "9dede617-791e-4afb-cdc8-d8e4261aa9f6"
      },
      "execution_count": null,
      "outputs": [
        {
          "output_type": "stream",
          "name": "stdout",
          "text": [
            "line3\n"
          ]
        }
      ]
    },
    {
      "cell_type": "markdown",
      "source": [
        "##11.2. while"
      ],
      "metadata": {
        "id": "klO_UF6FG-Li"
      }
    },
    {
      "cell_type": "code",
      "source": [
        "l1 = [10,20,30,40]\n",
        "prod=1\n",
        "indx=0\n",
        "\n",
        "while indx<len(l1):\n",
        "  prod*=l1[indx]\n",
        "  indx+=1\n",
        "\n",
        "print(\"product is:\", prod)"
      ],
      "metadata": {
        "colab": {
          "base_uri": "https://localhost:8080/"
        },
        "id": "sq73GBg58qZk",
        "outputId": "a715d7a9-9e99-4cd6-aae3-a2c5e213277f"
      },
      "execution_count": 4,
      "outputs": [
        {
          "output_type": "stream",
          "name": "stdout",
          "text": [
            "product is: 240000\n"
          ]
        }
      ]
    },
    {
      "cell_type": "code",
      "source": [
        "l1 = [10,20,30,40,50]\n",
        "i=0\n",
        "while i<len(l1):\n",
        "  print(l1[i])\n",
        "  i+=1\n",
        "else:\n",
        "  print(\"end of list\")"
      ],
      "metadata": {
        "colab": {
          "base_uri": "https://localhost:8080/"
        },
        "id": "dSoqHGDkHEZH",
        "outputId": "1793dafc-8806-4039-c368-39500c3795c5"
      },
      "execution_count": null,
      "outputs": [
        {
          "output_type": "stream",
          "name": "stdout",
          "text": [
            "10\n",
            "20\n",
            "30\n",
            "40\n",
            "50\n",
            "end of list\n"
          ]
        }
      ]
    },
    {
      "cell_type": "code",
      "source": [
        "#prime number check\n",
        "num = int(input(\"Enter a number: \"))\n",
        "i=2\n",
        "isDivisible = False\n",
        "\n",
        "while(i<num):\n",
        "  if num%i==0:\n",
        "    isDivisible = True\n",
        "    print(\"{} is divisible by {}\".format(num,i))\n",
        "  i+=1\n",
        "\n",
        "if isDivisible:\n",
        "  print(\"Not a prime\")\n",
        "else:\n",
        "  print(\"Prime\")"
      ],
      "metadata": {
        "colab": {
          "base_uri": "https://localhost:8080/"
        },
        "id": "Z3DxzcCD9jna",
        "outputId": "68fc94d4-5b46-4c17-982a-f628ea0f852f"
      },
      "execution_count": 6,
      "outputs": [
        {
          "output_type": "stream",
          "name": "stdout",
          "text": [
            "Enter a number: 19\n",
            "Prime\n"
          ]
        }
      ]
    },
    {
      "cell_type": "markdown",
      "source": [
        "##<h2> 11.3. for"
      ],
      "metadata": {
        "id": "LhHYRcJtJbY3"
      }
    },
    {
      "cell_type": "code",
      "source": [
        "l1 = [10,20,30]\n",
        "total=0\n",
        "for ele in l1:\n",
        "  total+=ele\n",
        "else:\n",
        "  print(\"Total=\", total)"
      ],
      "metadata": {
        "colab": {
          "base_uri": "https://localhost:8080/"
        },
        "id": "kswJiEBPIT13",
        "outputId": "8d5557e7-e326-4cd3-aa9a-aa62db2f623c"
      },
      "execution_count": null,
      "outputs": [
        {
          "output_type": "stream",
          "name": "stdout",
          "text": [
            "Total= 60\n"
          ]
        }
      ]
    },
    {
      "cell_type": "markdown",
      "source": [
        "##<h2> 11.4. range"
      ],
      "metadata": {
        "id": "1kOOsi3JKZYJ"
      }
    },
    {
      "cell_type": "code",
      "source": [
        "for i in range(5):\n",
        "  print(i)"
      ],
      "metadata": {
        "colab": {
          "base_uri": "https://localhost:8080/"
        },
        "id": "wG1tHR7oJ33T",
        "outputId": "fb693d3c-c06b-4a70-c285-a08ea3e9dc0b"
      },
      "execution_count": null,
      "outputs": [
        {
          "output_type": "stream",
          "name": "stdout",
          "text": [
            "0\n",
            "1\n",
            "2\n",
            "3\n",
            "4\n"
          ]
        }
      ]
    },
    {
      "cell_type": "code",
      "source": [
        "for i in range(1,10,2):\n",
        "  print(i)"
      ],
      "metadata": {
        "colab": {
          "base_uri": "https://localhost:8080/"
        },
        "id": "pKcx-NPLKv-I",
        "outputId": "8a6e05ad-7cfd-44ae-d282-511bb9b8a4c0"
      },
      "execution_count": null,
      "outputs": [
        {
          "output_type": "stream",
          "name": "stdout",
          "text": [
            "1\n",
            "3\n",
            "5\n",
            "7\n",
            "9\n"
          ]
        }
      ]
    },
    {
      "cell_type": "code",
      "source": [
        "l1 = [10,20,30,40,50]\n",
        "for i in range(len(l1)):\n",
        "  print(l1[i])"
      ],
      "metadata": {
        "colab": {
          "base_uri": "https://localhost:8080/"
        },
        "id": "MuoAQwyZKrIJ",
        "outputId": "5a91fd5d-1fce-4c45-b85a-4bd73b815d94"
      },
      "execution_count": null,
      "outputs": [
        {
          "output_type": "stream",
          "name": "stdout",
          "text": [
            "10\n",
            "20\n",
            "30\n",
            "40\n",
            "50\n"
          ]
        }
      ]
    },
    {
      "cell_type": "code",
      "source": [
        "#print prime numbers\n",
        "start = int(input(\"Enter the starting number: \"))\n",
        "end = int(input(\"Enter the ending number: \"))\n",
        "\n",
        "for num in range(start, end+1):\n",
        "  if num>1:\n",
        "    isDivisible=False\n",
        "    for i in range(2,num):\n",
        "      if num%i == 0:\n",
        "        isDivisible=True\n",
        "    \n",
        "    if not isDivisible:\n",
        "      print(num)"
      ],
      "metadata": {
        "id": "cVexXPCALR7j",
        "colab": {
          "base_uri": "https://localhost:8080/"
        },
        "outputId": "baa070e2-e902-45de-a4c3-e75d99dc9ba8"
      },
      "execution_count": 7,
      "outputs": [
        {
          "output_type": "stream",
          "name": "stdout",
          "text": [
            "Enter the starting number: 10\n",
            "Enter the ending number: 50\n",
            "11\n",
            "13\n",
            "17\n",
            "19\n",
            "23\n",
            "29\n",
            "31\n",
            "37\n",
            "41\n",
            "43\n",
            "47\n"
          ]
        }
      ]
    },
    {
      "cell_type": "markdown",
      "source": [
        "##<h2> 11.5. break and continue"
      ],
      "metadata": {
        "id": "w3fpcHFk9c92"
      }
    },
    {
      "cell_type": "code",
      "source": [
        "i=0\n",
        "while i<len(l1):\n",
        "  if l1[i]>30:\n",
        "    break\n",
        "  print(l1[i])\n",
        "  i+=1\n",
        "else:\n",
        "  print(\"this wont be printed\")"
      ],
      "metadata": {
        "colab": {
          "base_uri": "https://localhost:8080/"
        },
        "id": "A85-5tlXHtCr",
        "outputId": "d9c97e82-6920-454e-8ea2-f4d95dd5e331"
      },
      "execution_count": 8,
      "outputs": [
        {
          "output_type": "stream",
          "name": "stdout",
          "text": [
            "10\n",
            "20\n",
            "30\n"
          ]
        }
      ]
    },
    {
      "cell_type": "code",
      "source": [
        "#prime number check\n",
        "num = int(input(\"Enter a number: \"))\n",
        "i=2\n",
        "\n",
        "while(i<num):\n",
        "  if num%i==0:\n",
        "    print(\"Not a prime\")\n",
        "    break\n",
        "  i+=1\n",
        "else:\n",
        "  print(\"Prime\")"
      ],
      "metadata": {
        "colab": {
          "base_uri": "https://localhost:8080/"
        },
        "id": "7Xwrgi5YITr-",
        "outputId": "d167bd8a-2915-4702-bedb-8ae2352c97d7"
      },
      "execution_count": 10,
      "outputs": [
        {
          "output_type": "stream",
          "name": "stdout",
          "text": [
            "Enter a number: 20\n",
            "Not a prime\n"
          ]
        }
      ]
    },
    {
      "cell_type": "code",
      "source": [
        "l1 = [10,11,12,13,14,15]\n",
        "for ele in l1:\n",
        "  if ele%2!=0:\n",
        "    continue\n",
        "  print(ele)\n",
        "else:\n",
        "  print(\"end of list\")"
      ],
      "metadata": {
        "colab": {
          "base_uri": "https://localhost:8080/"
        },
        "id": "4ZoAY3IoCAdg",
        "outputId": "86af2aac-b49c-4cef-9142-c819f73dd680"
      },
      "execution_count": 14,
      "outputs": [
        {
          "output_type": "stream",
          "name": "stdout",
          "text": [
            "10\n",
            "12\n",
            "14\n",
            "end of list\n"
          ]
        }
      ]
    },
    {
      "cell_type": "markdown",
      "source": [
        "#<h1> 12. Lists"
      ],
      "metadata": {
        "id": "NXgUAANQCpN9"
      }
    },
    {
      "cell_type": "code",
      "source": [
        "l1 = [\"one\", \"two\", \"three\"]\n",
        "l2 = [10,20,\"hi\"]\n",
        "l3 = [[1,\"hi\"], [2, \"hello\"]]\n",
        "print(l1)\n",
        "print(l2)\n",
        "print(l3)"
      ],
      "metadata": {
        "colab": {
          "base_uri": "https://localhost:8080/"
        },
        "id": "cUCEfNryCr6c",
        "outputId": "44ad064e-7899-4b6d-9416-a4e87f65acec"
      },
      "execution_count": 15,
      "outputs": [
        {
          "output_type": "stream",
          "name": "stdout",
          "text": [
            "['one', 'two', 'three']\n",
            "[10, 20, 'hi']\n",
            "[[1, 'hi'], [2, 'hello']]\n"
          ]
        }
      ]
    },
    {
      "cell_type": "markdown",
      "source": [
        "##<h2> 12.1. Indexing and Slicing"
      ],
      "metadata": {
        "id": "Whvz3SL5MwN1"
      }
    },
    {
      "cell_type": "code",
      "source": [
        "l1 = [10,20,30,40,50,60,70,80]\n",
        "print(l1[1])\n",
        "print(l1[:3])\n",
        "print(l1[-2])"
      ],
      "metadata": {
        "colab": {
          "base_uri": "https://localhost:8080/"
        },
        "id": "Lao-HoCEMzdb",
        "outputId": "01294068-3908-432f-9644-3b9e33bd39e6"
      },
      "execution_count": 42,
      "outputs": [
        {
          "output_type": "stream",
          "name": "stdout",
          "text": [
            "20\n",
            "[10, 20, 30]\n",
            "70\n"
          ]
        }
      ]
    },
    {
      "cell_type": "code",
      "source": [
        "l1 = [10,20,[30,40]]\n",
        "l1[2][1]"
      ],
      "metadata": {
        "colab": {
          "base_uri": "https://localhost:8080/"
        },
        "id": "-fEIVN7xWkId",
        "outputId": "3ac8fa93-b5c7-47cd-8171-741065c005f8"
      },
      "execution_count": 61,
      "outputs": [
        {
          "output_type": "execute_result",
          "data": {
            "text/plain": [
              "40"
            ]
          },
          "metadata": {},
          "execution_count": 61
        }
      ]
    },
    {
      "cell_type": "code",
      "source": [
        "l1 = [10,20,30,40,50,60,70,80]\n",
        "print(l1[:])\n",
        "print(l1[0:4])\n",
        "print(l1[::2])\n",
        "print(l1[::-1])"
      ],
      "metadata": {
        "colab": {
          "base_uri": "https://localhost:8080/"
        },
        "id": "x9XrFcpYNJqn",
        "outputId": "a3b59cce-3136-4ca3-c341-b729c301cc3b"
      },
      "execution_count": 54,
      "outputs": [
        {
          "output_type": "stream",
          "name": "stdout",
          "text": [
            "[10, 20, 30, 40, 50, 60, 70, 80]\n",
            "[10, 20, 30, 40]\n",
            "[10, 30, 50, 70]\n",
            "[80, 70, 60, 50, 40, 30, 20, 10]\n"
          ]
        }
      ]
    },
    {
      "cell_type": "markdown",
      "source": [
        "##<h2>12.2. Operations"
      ],
      "metadata": {
        "id": "KpjPGECbFFP0"
      }
    },
    {
      "cell_type": "code",
      "source": [
        "l1 = [\"one\", \"two\", \"three\"]\n",
        "len(l1)"
      ],
      "metadata": {
        "colab": {
          "base_uri": "https://localhost:8080/"
        },
        "id": "b9v7FDlsFKay",
        "outputId": "cebef723-b950-4016-daac-64cee0bca7c6"
      },
      "execution_count": 16,
      "outputs": [
        {
          "output_type": "execute_result",
          "data": {
            "text/plain": [
              "3"
            ]
          },
          "metadata": {},
          "execution_count": 16
        }
      ]
    },
    {
      "cell_type": "code",
      "source": [
        "l1.append(\"four\")\n",
        "l1"
      ],
      "metadata": {
        "colab": {
          "base_uri": "https://localhost:8080/"
        },
        "id": "uVVWWOV2FR7K",
        "outputId": "92a13b09-215a-470a-df57-b90f8143b8ef"
      },
      "execution_count": 17,
      "outputs": [
        {
          "output_type": "execute_result",
          "data": {
            "text/plain": [
              "['one', 'two', 'three', 'four']"
            ]
          },
          "metadata": {},
          "execution_count": 17
        }
      ]
    },
    {
      "cell_type": "code",
      "source": [
        "l1.insert(2,\"hello\")\n",
        "l1"
      ],
      "metadata": {
        "colab": {
          "base_uri": "https://localhost:8080/"
        },
        "id": "aqnrjwelFjOe",
        "outputId": "0a2b988c-7cbe-409d-bf57-68dbdb597190"
      },
      "execution_count": 18,
      "outputs": [
        {
          "output_type": "execute_result",
          "data": {
            "text/plain": [
              "['one', 'two', 'hello', 'three', 'four']"
            ]
          },
          "metadata": {},
          "execution_count": 18
        }
      ]
    },
    {
      "cell_type": "code",
      "source": [
        "l1 = [10,20,30]\n",
        "l2 = [40,50]\n",
        "l1.append(l2)\n",
        "l1"
      ],
      "metadata": {
        "colab": {
          "base_uri": "https://localhost:8080/"
        },
        "id": "PMIcUVZUGEIm",
        "outputId": "5eec940c-56e1-48b0-bad8-db16412c430d"
      },
      "execution_count": 21,
      "outputs": [
        {
          "output_type": "execute_result",
          "data": {
            "text/plain": [
              "[10, 20, 30, [40, 50]]"
            ]
          },
          "metadata": {},
          "execution_count": 21
        }
      ]
    },
    {
      "cell_type": "code",
      "source": [
        "l1 = [10,20,30]\n",
        "l2 = [40,50]\n",
        "l1.extend(l2)\n",
        "l1"
      ],
      "metadata": {
        "colab": {
          "base_uri": "https://localhost:8080/"
        },
        "id": "h1fLbFHVGK1M",
        "outputId": "9f865cad-929f-44c1-88c6-58affc81f4e3"
      },
      "execution_count": 22,
      "outputs": [
        {
          "output_type": "execute_result",
          "data": {
            "text/plain": [
              "[10, 20, 30, 40, 50]"
            ]
          },
          "metadata": {},
          "execution_count": 22
        }
      ]
    },
    {
      "cell_type": "code",
      "source": [
        "l1 = [10,20,30]\n",
        "l2 = [40,50]\n",
        "l3=l1+l2\n",
        "l3"
      ],
      "metadata": {
        "colab": {
          "base_uri": "https://localhost:8080/"
        },
        "id": "U1Hu0PNNPozv",
        "outputId": "69202bdd-01cd-44d0-ab00-91cee6f921fa"
      },
      "execution_count": 55,
      "outputs": [
        {
          "output_type": "execute_result",
          "data": {
            "text/plain": [
              "[10, 20, 30, 40, 50]"
            ]
          },
          "metadata": {},
          "execution_count": 55
        }
      ]
    },
    {
      "cell_type": "code",
      "source": [
        "l1 = [10,20,30,10,40,50]\n",
        "del l1[1]\n",
        "l1"
      ],
      "metadata": {
        "colab": {
          "base_uri": "https://localhost:8080/"
        },
        "id": "aDKQbZw5Fv1k",
        "outputId": "9b869d4e-f3eb-4fcf-a60c-e8f363afaa53"
      },
      "execution_count": 23,
      "outputs": [
        {
          "output_type": "execute_result",
          "data": {
            "text/plain": [
              "[10, 30, 10, 40, 50]"
            ]
          },
          "metadata": {},
          "execution_count": 23
        }
      ]
    },
    {
      "cell_type": "code",
      "source": [
        "l1 = [10,20,30,10,40,50]\n",
        "l1.remove(10)\n",
        "l1"
      ],
      "metadata": {
        "colab": {
          "base_uri": "https://localhost:8080/"
        },
        "id": "Gs9K4TbKGRig",
        "outputId": "ad7161c0-395f-4c7e-c8d9-c9863931324d"
      },
      "execution_count": 24,
      "outputs": [
        {
          "output_type": "execute_result",
          "data": {
            "text/plain": [
              "[20, 30, 10, 40, 50]"
            ]
          },
          "metadata": {},
          "execution_count": 24
        }
      ]
    },
    {
      "cell_type": "code",
      "source": [
        "l1 = [10,20,30,10,40,50]\n",
        "ele = l1.pop(4)\n",
        "print(l1)\n",
        "print(ele)"
      ],
      "metadata": {
        "colab": {
          "base_uri": "https://localhost:8080/"
        },
        "id": "4txcoqcRHu41",
        "outputId": "3148dff1-b380-4fd8-a4e5-ce401e1fe49f"
      },
      "execution_count": 27,
      "outputs": [
        {
          "output_type": "stream",
          "name": "stdout",
          "text": [
            "[10, 20, 30, 10, 50]\n",
            "40\n"
          ]
        }
      ]
    },
    {
      "cell_type": "code",
      "source": [
        "l1 = [10,20,30,10,40,50]\n",
        "l1.reverse()\n",
        "l1"
      ],
      "metadata": {
        "colab": {
          "base_uri": "https://localhost:8080/"
        },
        "id": "bCizVLUHIvZu",
        "outputId": "a23ed421-8afd-4505-a55c-251c75a1af21"
      },
      "execution_count": 30,
      "outputs": [
        {
          "output_type": "execute_result",
          "data": {
            "text/plain": [
              "[50, 40, 10, 30, 20, 10]"
            ]
          },
          "metadata": {},
          "execution_count": 30
        }
      ]
    },
    {
      "cell_type": "code",
      "source": [
        "l1 = [10,60,5,2,70,21]\n",
        "l2 = sorted(l1)\n",
        "l3 = sorted(l1,reverse=True) \n",
        "print(l1)\n",
        "print(l2)\n",
        "print(l3)"
      ],
      "metadata": {
        "colab": {
          "base_uri": "https://localhost:8080/"
        },
        "id": "7Ks9CrAGLPz0",
        "outputId": "b49c4f02-fce5-4af3-f4fd-51e6e487dfcb"
      },
      "execution_count": 33,
      "outputs": [
        {
          "output_type": "stream",
          "name": "stdout",
          "text": [
            "[10, 60, 5, 2, 70, 21]\n",
            "[2, 5, 10, 21, 60, 70]\n",
            "[70, 60, 21, 10, 5, 2]\n"
          ]
        }
      ]
    },
    {
      "cell_type": "code",
      "source": [
        "l1 = [10,60,5,2,70,21]\n",
        "l1.sort()\n",
        "l1"
      ],
      "metadata": {
        "colab": {
          "base_uri": "https://localhost:8080/"
        },
        "id": "X_FnP4-qLqRJ",
        "outputId": "a8c477b9-5bb0-4321-d827-a38dab577d47"
      },
      "execution_count": 34,
      "outputs": [
        {
          "output_type": "execute_result",
          "data": {
            "text/plain": [
              "[2, 5, 10, 21, 60, 70]"
            ]
          },
          "metadata": {},
          "execution_count": 34
        }
      ]
    },
    {
      "cell_type": "code",
      "source": [
        "l1 = [10,\"a\",20,30]\n",
        "l1.sort()\n",
        "l1"
      ],
      "metadata": {
        "colab": {
          "base_uri": "https://localhost:8080/",
          "height": 200
        },
        "id": "w6xeZ3PCLuLm",
        "outputId": "721a3ad6-b644-46c2-8c07-f0fbdcff9799"
      },
      "execution_count": 35,
      "outputs": [
        {
          "output_type": "error",
          "ename": "TypeError",
          "evalue": "ignored",
          "traceback": [
            "\u001b[0;31m---------------------------------------------------------------------------\u001b[0m",
            "\u001b[0;31mTypeError\u001b[0m                                 Traceback (most recent call last)",
            "\u001b[0;32m<ipython-input-35-0d42f41b502b>\u001b[0m in \u001b[0;36m<module>\u001b[0;34m()\u001b[0m\n\u001b[1;32m      1\u001b[0m \u001b[0ml1\u001b[0m \u001b[0;34m=\u001b[0m \u001b[0;34m[\u001b[0m\u001b[0;36m10\u001b[0m\u001b[0;34m,\u001b[0m\u001b[0;34m\"a\"\u001b[0m\u001b[0;34m,\u001b[0m\u001b[0;36m20\u001b[0m\u001b[0;34m,\u001b[0m\u001b[0;36m30\u001b[0m\u001b[0;34m]\u001b[0m\u001b[0;34m\u001b[0m\u001b[0;34m\u001b[0m\u001b[0m\n\u001b[0;32m----> 2\u001b[0;31m \u001b[0ml1\u001b[0m\u001b[0;34m.\u001b[0m\u001b[0msort\u001b[0m\u001b[0;34m(\u001b[0m\u001b[0;34m)\u001b[0m\u001b[0;34m\u001b[0m\u001b[0;34m\u001b[0m\u001b[0m\n\u001b[0m\u001b[1;32m      3\u001b[0m \u001b[0ml1\u001b[0m\u001b[0;34m\u001b[0m\u001b[0;34m\u001b[0m\u001b[0m\n",
            "\u001b[0;31mTypeError\u001b[0m: '<' not supported between instances of 'str' and 'int'"
          ]
        }
      ]
    },
    {
      "cell_type": "code",
      "source": [
        "l1 = [10,20,30]\n",
        "l2 = l1\n",
        "l2.append(40)\n",
        "print(l1)\n",
        "print(l2)"
      ],
      "metadata": {
        "colab": {
          "base_uri": "https://localhost:8080/"
        },
        "id": "cNae_UQTL87p",
        "outputId": "d69b15af-5a67-4d24-f536-4b5319fb5068"
      },
      "execution_count": 36,
      "outputs": [
        {
          "output_type": "stream",
          "name": "stdout",
          "text": [
            "[10, 20, 30, 40]\n",
            "[10, 20, 30, 40]\n"
          ]
        }
      ]
    },
    {
      "cell_type": "code",
      "source": [
        "s = \"this,is,a,test,string\"\n",
        "l1 = s.split(\",\")\n",
        "print(l1)\n",
        "\n",
        "s = \"this is a test string\"\n",
        "l2 = s.split()\n",
        "print(l2)"
      ],
      "metadata": {
        "colab": {
          "base_uri": "https://localhost:8080/"
        },
        "id": "36lEbmHQMFGU",
        "outputId": "1a0a155f-dbb9-41cd-b519-a2cae384d517"
      },
      "execution_count": 39,
      "outputs": [
        {
          "output_type": "stream",
          "name": "stdout",
          "text": [
            "['this', 'is', 'a', 'test', 'string']\n",
            "['this', 'is', 'a', 'test', 'string']\n"
          ]
        }
      ]
    },
    {
      "cell_type": "code",
      "source": [
        "l1 = [10,20,30,10,40,50]\n",
        "l1.count(10)"
      ],
      "metadata": {
        "colab": {
          "base_uri": "https://localhost:8080/"
        },
        "id": "_vljToXTQOoA",
        "outputId": "4531c29d-58b4-4d51-ee0b-8f5fb0645057"
      },
      "execution_count": 56,
      "outputs": [
        {
          "output_type": "execute_result",
          "data": {
            "text/plain": [
              "2"
            ]
          },
          "metadata": {},
          "execution_count": 56
        }
      ]
    },
    {
      "cell_type": "code",
      "source": [
        "l1 = [10,20,30,10,40,50]\n",
        "for ele in l1:\n",
        "  print(ele)"
      ],
      "metadata": {
        "colab": {
          "base_uri": "https://localhost:8080/"
        },
        "id": "5L4DbgdRQWLL",
        "outputId": "3852123a-ef70-42a0-bebc-d7c91fdf40e6"
      },
      "execution_count": 57,
      "outputs": [
        {
          "output_type": "stream",
          "name": "stdout",
          "text": [
            "10\n",
            "20\n",
            "30\n",
            "10\n",
            "40\n",
            "50\n"
          ]
        }
      ]
    },
    {
      "cell_type": "markdown",
      "source": [
        "##<h2> 12.3. Comprehension"
      ],
      "metadata": {
        "id": "1GDLTfo2QZge"
      }
    },
    {
      "cell_type": "code",
      "source": [
        "squares = [i**2 for i in range(10)]\n",
        "print(squares)\n",
        "cubes = [(i, i**3) for i in range(5)]\n",
        "print(cubes)"
      ],
      "metadata": {
        "colab": {
          "base_uri": "https://localhost:8080/"
        },
        "id": "2A_gwRGpQcwz",
        "outputId": "c137a3b4-25c9-4fe5-f854-a4a47750d9f2"
      },
      "execution_count": 59,
      "outputs": [
        {
          "output_type": "stream",
          "name": "stdout",
          "text": [
            "[0, 1, 4, 9, 16, 25, 36, 49, 64, 81]\n",
            "[(0, 0), (1, 1), (2, 8), (3, 27), (4, 64)]\n"
          ]
        }
      ]
    },
    {
      "cell_type": "markdown",
      "source": [
        "#<h1> 13. Tuples"
      ],
      "metadata": {
        "id": "LXGvXxirV79q"
      }
    },
    {
      "cell_type": "code",
      "source": [
        "t1 = (1,20,30)\n",
        "t2 = ((10,30), \"hi\", 34.5, True)\n",
        "print(t1)\n",
        "print(t2)"
      ],
      "metadata": {
        "colab": {
          "base_uri": "https://localhost:8080/"
        },
        "id": "ufPP3UB3V_QI",
        "outputId": "935e7cbd-181f-4203-a24d-26cb0d92f23e"
      },
      "execution_count": 60,
      "outputs": [
        {
          "output_type": "stream",
          "name": "stdout",
          "text": [
            "(1, 20, 30)\n",
            "((10, 30), 'hi', 34.5, True)\n"
          ]
        }
      ]
    },
    {
      "cell_type": "code",
      "source": [
        "t = 10\n",
        "print(t, type(t))\n",
        "\n",
        "t = (10)\n",
        "print(t, type(t))\n",
        "\n",
        "t = (10,)\n",
        "print(t, type(t))\n",
        "\n",
        "t = 10,\n",
        "print(t, type(t))"
      ],
      "metadata": {
        "colab": {
          "base_uri": "https://localhost:8080/"
        },
        "id": "LrKUbGc9Z3gh",
        "outputId": "cfe10501-4811-4ab6-96e9-9e9d82b97ec3"
      },
      "execution_count": 65,
      "outputs": [
        {
          "output_type": "stream",
          "name": "stdout",
          "text": [
            "10 <class 'int'>\n",
            "10 <class 'int'>\n",
            "(10,) <class 'tuple'>\n",
            "(10,) <class 'tuple'>\n"
          ]
        }
      ]
    },
    {
      "cell_type": "code",
      "source": [
        "t = ((10,30), \"hi\", 34.5, True)\n",
        "print(t[1:])\n",
        "print(t[2:5])\n",
        "print(t[::-1])"
      ],
      "metadata": {
        "colab": {
          "base_uri": "https://localhost:8080/"
        },
        "id": "-UJnYHmEaYUX",
        "outputId": "0b6bf891-ffa5-40e2-8128-bb1bd59031e8"
      },
      "execution_count": 68,
      "outputs": [
        {
          "output_type": "stream",
          "name": "stdout",
          "text": [
            "('hi', 34.5, True)\n",
            "(34.5, True)\n",
            "(True, 34.5, 'hi', (10, 30))\n"
          ]
        }
      ]
    },
    {
      "cell_type": "code",
      "source": [
        "t = (10,20,[\"Hyd\", \"Chn\"])\n",
        "t[1] = 40"
      ],
      "metadata": {
        "colab": {
          "base_uri": "https://localhost:8080/",
          "height": 183
        },
        "id": "TPZVNPLGbjMu",
        "outputId": "9468ca7e-5840-41de-e39b-d01cdb7900ef"
      },
      "execution_count": 69,
      "outputs": [
        {
          "output_type": "error",
          "ename": "TypeError",
          "evalue": "ignored",
          "traceback": [
            "\u001b[0;31m---------------------------------------------------------------------------\u001b[0m",
            "\u001b[0;31mTypeError\u001b[0m                                 Traceback (most recent call last)",
            "\u001b[0;32m<ipython-input-69-460e8bf66364>\u001b[0m in \u001b[0;36m<module>\u001b[0;34m()\u001b[0m\n\u001b[1;32m      1\u001b[0m \u001b[0mt\u001b[0m \u001b[0;34m=\u001b[0m \u001b[0;34m(\u001b[0m\u001b[0;36m10\u001b[0m\u001b[0;34m,\u001b[0m\u001b[0;36m20\u001b[0m\u001b[0;34m,\u001b[0m\u001b[0;34m[\u001b[0m\u001b[0;34m\"Hyd\"\u001b[0m\u001b[0;34m,\u001b[0m \u001b[0;34m\"Chn\"\u001b[0m\u001b[0;34m]\u001b[0m\u001b[0;34m)\u001b[0m\u001b[0;34m\u001b[0m\u001b[0;34m\u001b[0m\u001b[0m\n\u001b[0;32m----> 2\u001b[0;31m \u001b[0mt\u001b[0m\u001b[0;34m[\u001b[0m\u001b[0;36m1\u001b[0m\u001b[0;34m]\u001b[0m \u001b[0;34m=\u001b[0m \u001b[0;36m40\u001b[0m\u001b[0;34m\u001b[0m\u001b[0;34m\u001b[0m\u001b[0m\n\u001b[0m",
            "\u001b[0;31mTypeError\u001b[0m: 'tuple' object does not support item assignment"
          ]
        }
      ]
    },
    {
      "cell_type": "code",
      "source": [
        "t[2][1] = \"BLR\"\n",
        "t"
      ],
      "metadata": {
        "colab": {
          "base_uri": "https://localhost:8080/"
        },
        "id": "0iYuKvbWbqAU",
        "outputId": "e604838c-84d3-47cd-9af0-8ea5a82e8a0f"
      },
      "execution_count": 70,
      "outputs": [
        {
          "output_type": "execute_result",
          "data": {
            "text/plain": [
              "(10, 20, ['Hyd', 'BLR'])"
            ]
          },
          "metadata": {},
          "execution_count": 70
        }
      ]
    },
    {
      "cell_type": "markdown",
      "source": [
        "##<h2> 13.1. Operations"
      ],
      "metadata": {
        "id": "aP8ejHL7bu7-"
      }
    },
    {
      "cell_type": "code",
      "source": [
        "t = (1,2,3)+(4,5,6)\n",
        "t"
      ],
      "metadata": {
        "colab": {
          "base_uri": "https://localhost:8080/"
        },
        "id": "jKoxrpfVbxpL",
        "outputId": "770581db-ef64-4ea8-a1c7-e3a58c6cfa61"
      },
      "execution_count": 71,
      "outputs": [
        {
          "output_type": "execute_result",
          "data": {
            "text/plain": [
              "(1, 2, 3, 4, 5, 6)"
            ]
          },
          "metadata": {},
          "execution_count": 71
        }
      ]
    },
    {
      "cell_type": "code",
      "source": [
        "t = (\"hello\", ) *4\n",
        "t"
      ],
      "metadata": {
        "colab": {
          "base_uri": "https://localhost:8080/"
        },
        "id": "1lyVVcQ3b8Xq",
        "outputId": "381f786a-070e-465d-fc23-f5d85e17dd2c"
      },
      "execution_count": 73,
      "outputs": [
        {
          "output_type": "execute_result",
          "data": {
            "text/plain": [
              "('hello', 'hello', 'hello', 'hello')"
            ]
          },
          "metadata": {},
          "execution_count": 73
        }
      ]
    },
    {
      "cell_type": "code",
      "source": [
        "t = (1,2,3,4,5)\n",
        "del t\n",
        "t"
      ],
      "metadata": {
        "colab": {
          "base_uri": "https://localhost:8080/",
          "height": 200
        },
        "id": "x5qjnPk-cOHg",
        "outputId": "037f2fa9-483b-4dea-cefc-b68577251c6f"
      },
      "execution_count": 75,
      "outputs": [
        {
          "output_type": "error",
          "ename": "NameError",
          "evalue": "ignored",
          "traceback": [
            "\u001b[0;31m---------------------------------------------------------------------------\u001b[0m",
            "\u001b[0;31mNameError\u001b[0m                                 Traceback (most recent call last)",
            "\u001b[0;32m<ipython-input-75-47868b9e9760>\u001b[0m in \u001b[0;36m<module>\u001b[0;34m()\u001b[0m\n\u001b[1;32m      1\u001b[0m \u001b[0mt\u001b[0m \u001b[0;34m=\u001b[0m \u001b[0;34m(\u001b[0m\u001b[0;36m1\u001b[0m\u001b[0;34m,\u001b[0m\u001b[0;36m2\u001b[0m\u001b[0;34m,\u001b[0m\u001b[0;36m3\u001b[0m\u001b[0;34m,\u001b[0m\u001b[0;36m4\u001b[0m\u001b[0;34m,\u001b[0m\u001b[0;36m5\u001b[0m\u001b[0;34m)\u001b[0m\u001b[0;34m\u001b[0m\u001b[0;34m\u001b[0m\u001b[0m\n\u001b[1;32m      2\u001b[0m \u001b[0;32mdel\u001b[0m \u001b[0mt\u001b[0m\u001b[0;34m\u001b[0m\u001b[0;34m\u001b[0m\u001b[0m\n\u001b[0;32m----> 3\u001b[0;31m \u001b[0mt\u001b[0m\u001b[0;34m\u001b[0m\u001b[0;34m\u001b[0m\u001b[0m\n\u001b[0m",
            "\u001b[0;31mNameError\u001b[0m: name 't' is not defined"
          ]
        }
      ]
    },
    {
      "cell_type": "code",
      "source": [
        "t = (1,2,3,4,5,1,2,1)\n",
        "t.count(1)"
      ],
      "metadata": {
        "colab": {
          "base_uri": "https://localhost:8080/"
        },
        "id": "XxmDGd7Ud5hv",
        "outputId": "9b2d26bc-07b5-433a-e4c8-f34d7d63203b"
      },
      "execution_count": 76,
      "outputs": [
        {
          "output_type": "execute_result",
          "data": {
            "text/plain": [
              "3"
            ]
          },
          "metadata": {},
          "execution_count": 76
        }
      ]
    },
    {
      "cell_type": "code",
      "source": [
        "t.index(1)"
      ],
      "metadata": {
        "colab": {
          "base_uri": "https://localhost:8080/"
        },
        "id": "iS_oMRoPeA_e",
        "outputId": "ce2b0962-5214-48ee-bd38-84328e90c739"
      },
      "execution_count": 77,
      "outputs": [
        {
          "output_type": "execute_result",
          "data": {
            "text/plain": [
              "0"
            ]
          },
          "metadata": {},
          "execution_count": 77
        }
      ]
    },
    {
      "cell_type": "code",
      "source": [
        "t = (1,2,3,4,5)\n",
        "print(len(t))"
      ],
      "metadata": {
        "colab": {
          "base_uri": "https://localhost:8080/"
        },
        "id": "4sk9WVIOeRBb",
        "outputId": "7cdd19a6-6824-4297-ddf7-f505ed22d3ba"
      },
      "execution_count": 78,
      "outputs": [
        {
          "output_type": "stream",
          "name": "stdout",
          "text": [
            "5\n"
          ]
        }
      ]
    },
    {
      "cell_type": "code",
      "source": [
        "t1 = (5,3,2,4)\n",
        "t2 = sorted(t1)\n",
        "t2"
      ],
      "metadata": {
        "colab": {
          "base_uri": "https://localhost:8080/"
        },
        "id": "EfN7ydudejZu",
        "outputId": "dbf6d341-455e-41ff-8250-5fb9d4bd676c"
      },
      "execution_count": 79,
      "outputs": [
        {
          "output_type": "execute_result",
          "data": {
            "text/plain": [
              "[2, 3, 4, 5]"
            ]
          },
          "metadata": {},
          "execution_count": 79
        }
      ]
    },
    {
      "cell_type": "code",
      "source": [
        "t1 = (5,3,2,4)\n",
        "print(max(t1))\n",
        "print(min(t1))\n",
        "print(sum(t1))"
      ],
      "metadata": {
        "colab": {
          "base_uri": "https://localhost:8080/"
        },
        "id": "UEbRb2reezMD",
        "outputId": "cbf2e6ff-5154-41f0-f7d5-930c1e0a2078"
      },
      "execution_count": 80,
      "outputs": [
        {
          "output_type": "stream",
          "name": "stdout",
          "text": [
            "5\n",
            "2\n",
            "14\n"
          ]
        }
      ]
    },
    {
      "cell_type": "markdown",
      "source": [
        "#<h1> 14. Sets"
      ],
      "metadata": {
        "id": "iNBhgmaYfNvV"
      }
    },
    {
      "cell_type": "code",
      "source": [
        ""
      ],
      "metadata": {
        "id": "NjtA3g5DfQPC"
      },
      "execution_count": null,
      "outputs": []
    }
  ]
}